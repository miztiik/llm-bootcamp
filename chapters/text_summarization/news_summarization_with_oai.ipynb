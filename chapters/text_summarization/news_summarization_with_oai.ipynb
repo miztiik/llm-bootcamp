{
 "cells": [
  {
   "cell_type": "markdown",
   "metadata": {},
   "source": [
    "# Summarize Google News Results with OpenAI and Serper API\n",
    "\n",
    "## Overview\n",
    "\n",
    "Text summarization is the process of creating a shorter version of a text document while still preserving the most important information. This can be useful for a variety of purposes, such as quickly skimming a long document, getting the gist of an article, or sharing a summary with others. LLMs can be used to create summaries of news articles, research papers, technical documents, and other types of text.\n",
    "\n",
    "<img src=\"images/miztiik_text_summarization_01.png\" width=\"50%\"/>\n",
    "\n",
    "\n",
    "## Chunking Strategies for LLM Applications\n",
    "\n",
    "- **Stuffing method** - The `stuffing` method is the easiest way to summarize text by feeding the entire document to a large language model (LLM) in a single call. This method has both pros and cons.\n",
    "\n",
    "  - **Pros**:\n",
    "    - Only required a single call to the model, which can be faster than other methods that require multiple calls\n",
    "    - When summarizing text, the model has access to all the data at once, which can result in a better summary.\n",
    "  - **Cons**:\n",
    "    - Most models have a context length, and for large documents (or many documents) this will not work as it will result in a prompt larger than the context length.\n",
    "    - This method only works on smaller pieces of data and not suitable to large documents most of the time.\n",
    "\n",
    "- **MapReduce method** - It is a technique for summarizing large pieces of text by first summarizing smaller chunks of text and then combining those summaries into a single summary. The `MapReduce` method implements a multi-stage summarization. In LangChain, you can use `MapReduceDocumentsChain` as part of the `load_summarize_chain` method. What you need to do is setting `map_reduce` as `chain_type` of your chain.\n",
    "  - MapReduce with Overlapping Chunks method\n",
    "  - MapReduce with Rolling Summary method\n",
    "\n",
    "![Miztiik Automation: Text Summarization](images/miztiik_automation_docs_copilot_using_llm_rag_02.png)\n",
    "\n",
    "As we do not know the length of the document, we will use the `map-reduce` method to summarize the news articles.\n",
    "\n",
    "In this notebook, we will try fetch the latest Google news using server API and use AI-generated summaries with LangChain LLM framework or huggingface transformers.\n",
    "\n",
    "\n",
    "<a href=\"https://colab.research.google.com/github/miztiik/llm-bootcamp/blob/main/chapters/text_summarization/news_summarization_with_oai.ipynb\" target=\"_parent\"><img src=\"https://colab.research.google.com/assets/colab-badge.svg\" alt=\"Open In Colab\"/></a>"
   ]
  },
  {
   "cell_type": "code",
   "execution_count": 9,
   "metadata": {},
   "outputs": [],
   "source": [
    "%%capture\n",
    "# Comment the above line to see the installation logs\n",
    "\n",
    "# Install the dependencies\n",
    "!pip install -qU python-dotenv\n",
    "!pip install -qU langchain-core==0.1.23\n",
    "!pip install -qU langchain==0.1.6\n",
    "!pip install -qU langchain-community==0.0.19\n",
    "!pip install -qU langchain-openai\n",
    "!pip install --upgrade --quiet  transformers --quiet\n",
    "!pip install -qU newspaper3k\n",
    "\n",
    "\n",
    "# langchain==0.1.6\n",
    "# langchain-community==0.0.19\n",
    "# langchain-core==0.1.23"
   ]
  },
  {
   "cell_type": "code",
   "execution_count": 1,
   "metadata": {},
   "outputs": [
    {
     "data": {
      "text/plain": [
       "True"
      ]
     },
     "execution_count": 1,
     "metadata": {},
     "output_type": "execute_result"
    }
   ],
   "source": [
    "# Load environment variables\n",
    "import os\n",
    "from dotenv import load_dotenv, find_dotenv\n",
    "\n",
    "load_dotenv(find_dotenv())"
   ]
  },
  {
   "cell_type": "code",
   "execution_count": 2,
   "metadata": {},
   "outputs": [],
   "source": [
    "# Not a good practice, but we will ignore warnings in this notebook, as tensor has deprecated some methods and will be removed in future versions.\n",
    "# https://github.com/pytorch/pytorch/issues/97207#issuecomment-1494781560\n",
    "import warnings\n",
    "\n",
    "# warnings.filterwarnings('ignore')\n",
    "warnings.filterwarnings(\n",
    "    \"ignore\", category=UserWarning, message=\"TypedStorage is deprecated\"\n",
    ")"
   ]
  },
  {
   "cell_type": "markdown",
   "metadata": {},
   "source": [
    "Update your `API_KEY` in the `.env` file. You can get the API keys from the following links. _Note: Some of the services may require you to have an account and some may charge you for usage_\n",
    "- [OpenAI API Key](https://platform.openai.com/account/api-keys)\n",
    "- [Hugging Face API Key](https://huggingface.co/settings/tokens)\n",
    "- [Serper API Key](https://serper.dev/api-key)"
   ]
  },
  {
   "cell_type": "code",
   "execution_count": 3,
   "metadata": {},
   "outputs": [],
   "source": [
    "# os.environ[\"HF_TOKEN\"] = \"\"\n",
    "# os.environ[\"HUGGINGFACEHUB_API_TOKEN\"] = \"\"\n",
    "# os.environ[\"OPENAI_API_KEY\"] = \"\"\n",
    "# os.environ[\"SERPER_API_KEY\"] = \"\""
   ]
  },
  {
   "cell_type": "code",
   "execution_count": 4,
   "metadata": {},
   "outputs": [],
   "source": [
    "from langchain_openai import OpenAI\n",
    "from langchain_openai import ChatOpenAI\n",
    "\n",
    "# To specify a particular model refer to the OpenAI documentation - https://platform.openai.com/docs/models\n",
    "# Completions Model: https://platform.openai.com/docs/models/completions\n",
    "# Chat Model: https://platform.openai.com/docs/models/completions\n",
    "\n",
    "llm = OpenAI()\n",
    "llm_chat = ChatOpenAI(model_name=\"gpt-3.5-turbo-0125\", temperature=0.3)"
   ]
  },
  {
   "cell_type": "code",
   "execution_count": 7,
   "metadata": {},
   "outputs": [],
   "source": [
    "from langchain_community.utilities import GoogleSerperAPIWrapper\n",
    "from langchain.chains.summarize import load_summarize_chain\n",
    "from langchain.docstore.document import Document\n",
    "from langchain.prompts import PromptTemplate\n",
    "from langchain.text_splitter import RecursiveCharacterTextSplitter\n",
    "from langchain.document_loaders import NewsURLLoader"
   ]
  },
  {
   "cell_type": "markdown",
   "metadata": {},
   "source": [
    "**Serper API** - [Sign up](https://serper.dev/signup?ref=miztiik) for an account with Serper, or log in if you already have an account, and create an API key. Serper offers a generous free tier; as you consume the API, the dashboard will populate with the requests and remaining credits."
   ]
  },
  {
   "cell_type": "code",
   "execution_count": 30,
   "metadata": {},
   "outputs": [],
   "source": [
    "import os\n",
    "\n",
    "search = GoogleSerperAPIWrapper(\n",
    "    type=\"news\", tbs=\"qdr:d1\", serper_api_key=os.getenv(\"SERPER_API_KEY\")\n",
    ")\n",
    "\n",
    "news_search_query = \"india\"\n",
    "news_results = search.results(news_search_query)\n",
    "\n",
    "if news_results.get(\"news\") is None:\n",
    "    print(\"No results found\")"
   ]
  },
  {
   "cell_type": "code",
   "execution_count": 31,
   "metadata": {},
   "outputs": [
    {
     "name": "stdout",
     "output_type": "stream",
     "text": [
      "10\n"
     ]
    }
   ],
   "source": [
    "print(len(news_results[\"news\"]))"
   ]
  },
  {
   "cell_type": "code",
   "execution_count": 32,
   "metadata": {},
   "outputs": [
    {
     "name": "stdout",
     "output_type": "stream",
     "text": [
      "title:India hikes windfall tax on petroleum crude, diesel\n",
      "link:https://www.reuters.com/business/energy/india-hikes-windfall-tax-petroleum-crude-diesel-2024-02-15/\n",
      "snippet:The Indian government is increasing the windfall tax on petroleum crude to 3300 rupees ($39.76) a metric ton from 3200 rupees with effect from Feb.\n",
      "date:6 hours ago\n",
      "source:Reuters\n",
      "imageUrl:https://encrypted-tbn0.gstatic.com/images?q=tbn:ANd9GcTBsjlsoQ0sl9Bx4NUQzQUce64F3CLTRKu8JPIKfM3D1Yd9ui1KpKcq7bExeQ&s\n",
      "position:2\n"
     ]
    }
   ],
   "source": [
    "for i in news_results[\"news\"][1]:\n",
    "    print(f\"{i}:{news_results['news'][1][i]}\")"
   ]
  },
  {
   "cell_type": "code",
   "execution_count": 33,
   "metadata": {},
   "outputs": [
    {
     "name": "stderr",
     "output_type": "stream",
     "text": [
      "Error fetching or processing https://www.reuters.com/business/energy/india-hikes-windfall-tax-petroleum-crude-diesel-2024-02-15/, exception: Article `download()` failed with 401 Client Error: HTTP Forbidden for url: https://www.reuters.com/business/energy/india-hikes-windfall-tax-petroleum-crude-diesel-2024-02-15/ on URL https://www.reuters.com/business/energy/india-hikes-windfall-tax-petroleum-crude-diesel-2024-02-15/\n"
     ]
    },
    {
     "name": "stdout",
     "output_type": "stream",
     "text": [
      "Failed to load https://www.reuters.com/business/energy/india-hikes-windfall-tax-petroleum-crude-diesel-2024-02-15/\n"
     ]
    }
   ],
   "source": [
    "# Limit how many news articles to process\n",
    "num_results = min(5, len(news_results[\"news\"]))\n",
    "\n",
    "text_splitter = RecursiveCharacterTextSplitter(\n",
    "    separators=[\n",
    "        \"\\n\\n\",\n",
    "        \"\\n\",\n",
    "    ],\n",
    "    chunk_size=1000,\n",
    "    chunk_overlap=100,\n",
    ")\n",
    "\n",
    "# For each news article, load the contents\n",
    "for index, news_item in enumerate(news_results[\"news\"]):\n",
    "    loader = NewsURLLoader(urls=[news_item.get(\"link\")])\n",
    "    contents = loader.load()\n",
    "    if contents:\n",
    "        news_results[\"news\"][index][\"article\"] = contents\n",
    "        # Make the docs to fit model input size\n",
    "        news_results[\"news\"][index][\"split_article\"] = text_splitter.create_documents(\n",
    "            [contents[0].page_content]\n",
    "        )\n",
    "    else:\n",
    "        print(f\"Failed to load {news_item['link']}, removed from results.\\n\")\n",
    "        news_results[\"news\"].pop(index)"
   ]
  },
  {
   "cell_type": "code",
   "execution_count": null,
   "metadata": {},
   "outputs": [],
   "source": [
    "for i in news_results[\"news\"]:\n",
    "    print(i)\n",
    "    print(f\"\\033[32m-----\\033[0m\")"
   ]
  },
  {
   "cell_type": "markdown",
   "metadata": {},
   "source": [
    "## Summarization with Open AI Models\n",
    "\n",
    "<img src=\"images/miztiik_text_summarization_02.png\" width=\"50%\"/>"
   ]
  },
  {
   "cell_type": "code",
   "execution_count": 38,
   "metadata": {},
   "outputs": [],
   "source": [
    "# 16k is the max input length for GPT-3.5\n",
    "# num_tokens_first_doc = llm.get_num_tokens(\n",
    "#     news_results[\"news\"][1][\"contents\"][0].page_content\n",
    "# )\n",
    "\n",
    "oai_chain = load_summarize_chain(\n",
    "    llm=llm,\n",
    "    chain_type=\"map_reduce\",\n",
    "    # verbose=True\n",
    ")\n",
    "\n",
    "for i in range(num_results):\n",
    "    if news_results[\"news\"][i][\"contents\"]:\n",
    "        news_results[\"news\"][i][\"oai_summary\"] = oai_chain.invoke(\n",
    "            news_results[\"news\"][i][\"contents\"]\n",
    "        )"
   ]
  },
  {
   "cell_type": "markdown",
   "metadata": {},
   "source": [
    "Let us take a look at the summaries generated by the `map-reduce` method."
   ]
  },
  {
   "cell_type": "code",
   "execution_count": 51,
   "metadata": {},
   "outputs": [
    {
     "name": "stdout",
     "output_type": "stream",
     "text": [
      "\n",
      "Title: India’s Supreme Court Strikes Down Contentious Election Fund-Raising Tool\n",
      "Link: https://www.nytimes.com/2024/02/15/world/asia/india-political-finance-ruling.html\n",
      "Summary: \u001b[32m India's Supreme Court has banned the use of electoral bonds, a system that allowed anonymous donations to political parties and was seen as a benefit for the ruling party. This decision, while not affecting the upcoming election, is seen as a step towards more transparency and accountability in campaign finance. The ruling party has used this system to raise large sums of money, giving them an advantage in elections and suppressing opposition voices. The bonds could be bought from a government bank with no limit on the amount that could be purchased. \n",
      "\u001b[0m\n",
      "\n",
      "Title: India electoral bonds: Supreme Court strikes down controversial funding scheme\n",
      "Link: https://apnews.com/article/india-election-funding-modi-8de67ea52eebfad104095b4db056e90e\n",
      "Summary: \u001b[32m India's top court has declared the electoral bond system, which allowed undisclosed donations to political parties, as unconstitutional. The system, introduced in 2017 by Prime Minister Modi's party, has been criticized for being undemocratic. The court has ordered the government bank to stop issuing these bonds and disclose donation details to the Election Commission. This ruling is seen as a blow to Modi's party, which has received over $1.9 billion from anonymous donors. Only parties with at least 1% of votes in previous elections were eligible to receive these bonds.\u001b[0m\n",
      "\n",
      "Title: India Supreme Court bans anonymous political donations ahead of elections - The Washington Post\n",
      "Link: https://www.washingtonpost.com/world/2024/02/15/india-election-electoral-bonds-bjp-anonymous/\n",
      "Summary: \u001b[32m India's Supreme Court has banned anonymous political donations ahead of the national election, bringing attention to campaign financing. The ruling BJP party has received a surge of funds, largely through an anonymous \"electoral bond\" program, raising concerns about corruption. Although the Election Commission will now have to reveal donor identities, critics worry it may be too late as the BJP has already received significant amounts. Nevertheless, the court's decision is seen as a win for democracy and the law.\u001b[0m\n",
      "\n",
      "Title: India formally begins construction phase for contributions to Fermilab's new particle accelerator\n",
      "Link: https://news.fnal.gov/2024/02/india-formally-begins-construction-phase-for-contributions-to-fermilabs-new-particle-accelerator/\n",
      "Summary: \u001b[32m The Department of Atomic Energy in India is collaborating with the United States on the Proton Improvement Plan II project at Fermi National Accelerator Laboratory. This partnership involves India providing superconducting components and training for their own accelerator program, with the goal of creating a powerful beam of neutrinos for the Deep Underground Neutrino Experiment. Other international partners include France, Italy, Poland, and the UK, with support from the U.S. Department of Energy.\u001b[0m\n"
     ]
    }
   ],
   "source": [
    "for i in news_results[\"news\"][:num_results]:\n",
    "    if i[\"article\"]:\n",
    "        print(\n",
    "            f\"\\nTitle: {i['title']}\\nLink: {i['link']}\\nSummary: \\033[32m{i['oai_summary']['output_text']}\\033[0m\"\n",
    "        )"
   ]
  },
  {
   "cell_type": "markdown",
   "metadata": {},
   "source": [
    "### Observations\n",
    "\n",
    "The summarization is reads like written by a person, does a good job of capturing the main points of the article. The summary is coherent and reads well. As OpenAI continues to improve their models, we can expect the quality of the summaries to improve as well."
   ]
  },
  {
   "cell_type": "markdown",
   "metadata": {},
   "source": [
    "## Additional Reading\n",
    "\n",
    "1. [LLM Bootcamp](https://github.com/miztiik/llm-bootcamp)\n",
    "1. [Revolutionizing News Summarization](https://www.width.ai/post/revolutionizing-news-summarization-exploring-the-power-of-gpt-in-zero-shot-and-specialized-tasks)\n",
    "1. [Summarizer For Any Size Document](https://www.width.ai/post/gpt3-summarizer)\n",
    "1. [Langchain Summarization 1. Stuff & Map Reduce](https://python.langchain.com/docs/use_cases/summarization)\n",
    "1. [Langchain Google Serper](https://python.langchain.com/docs/integrations/tools/google_serper)\n",
    "1. [Hugging Face Local Pipelines](https://python.langchain.com/docs/integrations/llms/huggingface_pipelines)\n",
    "1. [Chunking Strategies for LLM Applications](https://www.pinecone.io/learn/chunking-strategies/)\n",
    "1. [Optimal Chunk-Size for Large Document Summarization](https://vectify.ai/blog/LargeDocumentSummarization)\n",
    "1 .[4 Powerful Long Text Summarization Methods With Real Examples](https://www.width.ai/post/4-long-text-summarization-methods)"
   ]
  }
 ],
 "metadata": {
  "kernelspec": {
   "display_name": "Python 3",
   "language": "python",
   "name": "python3"
  },
  "language_info": {
   "codemirror_mode": {
    "name": "ipython",
    "version": 3
   },
   "file_extension": ".py",
   "mimetype": "text/x-python",
   "name": "python",
   "nbconvert_exporter": "python",
   "pygments_lexer": "ipython3",
   "version": "3.11.8"
  }
 },
 "nbformat": 4,
 "nbformat_minor": 2
}
