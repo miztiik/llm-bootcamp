{
    "cells": [
        {
            "attachments": {},
            "cell_type": "markdown",
            "metadata": {},
            "source": [
                "### Summarization patterns with langchain library\n",
                "Adapted from langchain's documentation at https://python.langchain.com/en/latest/modules/chains/index_examples/summarize.html"
            ]
        },
        {
            "attachments": {},
            "cell_type": "markdown",
            "metadata": {},
            "source": [
                "Do pip install ```pip install langchain``` and fill in your information below"
            ]
        },
        {
            "cell_type": "code",
            "execution_count": 52,
            "metadata": {},
            "outputs": [],
            "source": [
                "from azure.identity import InteractiveBrowserCredential\n",
                "import os\n",
                "\n",
                "import openai\n",
                "interactive_credential = InteractiveBrowserCredential() # add tenant_id=\"YOUR_TENANT_ID\" if you have more than 1 tenants\n",
                "token = interactive_credential.get_token(\"https://cognitiveservices.azure.com/.default\")"
            ]
        },
        {
            "cell_type": "code",
            "execution_count": 42,
            "metadata": {},
            "outputs": [],
            "source": [
                "from langchain.chat_models.azure_openai import AzureChatOpenAI\n",
                "from langchain.agents.react.base import DocstoreExplorer\n",
                "GPT_ENGINE = \"gpt-35-turbo\"\n",
                "os.environ[\"LANGCHAIN_HANDLER\"] = \"langchain\"\n",
                "os.environ[\"OPENAI_API_KEY\"] = token.token # replace with API key in case you don't use Azure AAD\n",
                "os.environ[\"OPENAI_API_TYPE\"] = \"azure_ad\" # replace with \"azure\" in case you don't use Azure AAD\n",
                "service_name = \"YOUR_SERVICE_NAME\"\n",
                "os.environ[\"OPENAI_API_BASE\"] = f\"https://{service_name}.openai.azure.com/\"\n",
                "os.environ[\"OPENAI_API_VERSION\"] = \"2023-03-15-preview\"\n",
                "llm= AzureChatOpenAI(deployment_name=GPT_ENGINE,temperature =0)\n",
                "\n",
                "from langchain import OpenAI, PromptTemplate, LLMChain\n",
                "from langchain.text_splitter import CharacterTextSplitter\n",
                "from langchain.chains.mapreduce import MapReduceChain\n",
                "from langchain.prompts import PromptTemplate\n",
                "text_splitter = CharacterTextSplitter()"
            ]
        },
        {
            "cell_type": "code",
            "execution_count": 55,
            "metadata": {},
            "outputs": [],
            "source": [
                "with open(\"state_of_the_union.txt\", encoding='utf-8') as f:\n",
                "    state_of_the_union = f.read()\n",
                "texts = text_splitter.split_text(state_of_the_union)"
            ]
        },
        {
            "cell_type": "code",
            "execution_count": 56,
            "metadata": {},
            "outputs": [],
            "source": [
                "from langchain.docstore.document import Document\n",
                "from langchain.chains.summarize import load_summarize_chain\n",
                "\n",
                "docs = [Document(page_content=t) for t in texts[:3]]"
            ]
        },
        {
            "attachments": {},
            "cell_type": "markdown",
            "metadata": {},
            "source": [
                "##### With map reduce pattern"
            ]
        },
        {
            "cell_type": "code",
            "execution_count": 57,
            "metadata": {},
            "outputs": [
                {
                    "data": {
                        "text/plain": [
                            "\"President Biden addressed Congress and the nation, emphasizing the importance of American diplomacy and resolve in standing with Ukraine and its allies against Russian aggression. The US is taking robust action to target Russia's economy with sanctions and providing military, economic, and humanitarian assistance to Ukraine. The President also highlighted his administration's new economic vision for America, including investing in infrastructure, education, and growing the workforce from the bottom up, and announced the passage of the Bipartisan Infrastructure Law.\""
                        ]
                    },
                    "execution_count": 57,
                    "metadata": {},
                    "output_type": "execute_result"
                }
            ],
            "source": [
                "chain = load_summarize_chain(llm, chain_type=\"map_reduce\")\n",
                "chain.run(docs)"
            ]
        },
        {
            "attachments": {},
            "cell_type": "markdown",
            "metadata": {},
            "source": [
                "##### With map stuff pattern"
            ]
        },
        {
            "cell_type": "code",
            "execution_count": null,
            "metadata": {},
            "outputs": [],
            "source": [
                "from langchain.chains.summarize import load_summarize_chain\n",
                "chain = load_summarize_chain(llm, chain_type=\"stuff\")\n",
                "\n",
                "chain.run(docs)\n"
            ]
        },
        {
            "attachments": {},
            "cell_type": "markdown",
            "metadata": {},
            "source": [
                "##### With refine pattern"
            ]
        },
        {
            "cell_type": "code",
            "execution_count": null,
            "metadata": {},
            "outputs": [],
            "source": [
                "chain = load_summarize_chain(llm, chain_type=\"refine\")\n",
                "\n",
                "print(chain.run(docs))"
            ]
        },
        {
            "cell_type": "code",
            "execution_count": null,
            "metadata": {},
            "outputs": [],
            "source": [
                "chain = load_summarize_chain(llm, chain_type=\"refine\", return_intermediate_steps=True)\n",
                "\n",
                "chain({\"input_documents\": docs}, return_only_outputs=True)\n"
            ]
        },
        {
            "attachments": {},
            "cell_type": "markdown",
            "metadata": {},
            "source": [
                "##### Customize prompt "
            ]
        },
        {
            "cell_type": "code",
            "execution_count": null,
            "metadata": {},
            "outputs": [],
            "source": [
                "prompt_template = \"\"\"Write a concise summary of the following:\n",
                "\n",
                "\n",
                "{text}\n",
                "\n",
                "\n",
                "CONCISE SUMMARY:\"\"\"\n",
                "PROMPT = PromptTemplate(template=prompt_template, input_variables=[\"text\"])\n",
                "refine_template = (\n",
                "    \"Your job is to produce a final summary\\n\"\n",
                "    \"We have provided an existing summary up to a certain point: {existing_answer}\\n\"\n",
                "    \"We have the opportunity to refine the existing summary\"\n",
                "    \"(only if needed) with some more context below.\\n\"\n",
                "    \"------------\\n\"\n",
                "    \"{text}\\n\"\n",
                "    \"------------\\n\"\n",
                "    \"Given the new context, refine the original summary. Make sure to address the list of problems, list of solutions and any following action\"\n",
                "    \"If the context isn't useful, return the original summary.\"\n",
                ")\n",
                "refine_prompt = PromptTemplate(\n",
                "    input_variables=[\"existing_answer\", \"text\"],\n",
                "    template=refine_template,\n",
                ")\n",
                "chain = load_summarize_chain(llm, chain_type=\"refine\", return_intermediate_steps=True, question_prompt=PROMPT, refine_prompt=refine_prompt)\n",
                "chain({\"input_documents\": docs}, return_only_outputs=True)"
            ]
        }
    ],
    "metadata": {
        "kernelspec": {
            "display_name": "forecasting",
            "language": "python",
            "name": "python3"
        },
        "language_info": {
            "codemirror_mode": {
                "name": "ipython",
                "version": 3
            },
            "file_extension": ".py",
            "mimetype": "text/x-python",
            "name": "python",
            "nbconvert_exporter": "python",
            "pygments_lexer": "ipython3",
            "version": "3.9.12"
        },
        "orig_nbformat": 4
    },
    "nbformat": 4,
    "nbformat_minor": 2
}